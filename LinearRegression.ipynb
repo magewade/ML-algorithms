{
 "cells": [
  {
   "cell_type": "code",
   "execution_count": 2,
   "metadata": {},
   "outputs": [],
   "source": [
    "import numpy as np\n",
    "import pandas as pd"
   ]
  },
  {
   "cell_type": "code",
   "execution_count": 1,
   "metadata": {},
   "outputs": [],
   "source": [
    "class MyLineReg:\n",
    "    def __init__(self, n_iter=100, learning_rate=0.1):\n",
    "        self.n_iter = n_iter\n",
    "        self.learning_rate = learning_rate\n",
    "        self.weights = []\n",
    "\n",
    "    def __repr__(self):\n",
    "        class_name = type(self).__name__\n",
    "        attrs = \", \".join(f\"{key}={value}\" for key, value in self.__dict__.items())\n",
    "        return f\"{class_name} class: {attrs}\"\n",
    "\n",
    "    def fit(self, X, y, verbose=False):\n",
    "        # Добавляем единичную колонку слева\n",
    "        X = X.copy()\n",
    "        X.insert(0, \"Intercept\", 1)\n",
    "\n",
    "        # Определяем количество фичей и создаем вектор весов\n",
    "        num_columns = X.shape[1]\n",
    "        self.weights = np.ones(num_columns)\n",
    "\n",
    "        # Начальная ошибка\n",
    "        y_pred = X @ self.weights\n",
    "        loss = ((y_pred - y) ** 2).mean()\n",
    "        if verbose:\n",
    "            print(f\"start | loss: {loss:.2f}\")\n",
    "\n",
    "        # Градиентный спуск\n",
    "        for i in range(self.n_iter):\n",
    "            y_pred = X @ self.weights\n",
    "            # Ошибка (MSE)\n",
    "            loss = ((y_pred - y) ** 2).mean()\n",
    "            # Вычисление градиента\n",
    "            gradient = (2 / len(y)) * X.T @ (y_pred - y)\n",
    "            # Обновление весов\n",
    "            self.weights -= self.learning_rate * gradient\n",
    "            # Вывод логов\n",
    "            if verbose and (i + 1) % verbose == 0:\n",
    "                print(f\"{i + 1} | loss: {loss:.2f}\")\n",
    "\n",
    "    def get_coef(self):\n",
    "        return self.weights[1:]"
   ]
  },
  {
   "cell_type": "code",
   "execution_count": null,
   "metadata": {},
   "outputs": [],
   "source": []
  }
 ],
 "metadata": {
  "kernelspec": {
   "display_name": ".venv",
   "language": "python",
   "name": "python3"
  },
  "language_info": {
   "codemirror_mode": {
    "name": "ipython",
    "version": 3
   },
   "file_extension": ".py",
   "mimetype": "text/x-python",
   "name": "python",
   "nbconvert_exporter": "python",
   "pygments_lexer": "ipython3",
   "version": "3.11.2"
  }
 },
 "nbformat": 4,
 "nbformat_minor": 2
}
